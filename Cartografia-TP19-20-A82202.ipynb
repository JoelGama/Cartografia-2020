{
 "cells": [
  {
   "cell_type": "markdown",
   "metadata": {},
   "source": [
    "# *Covid19* - Variation in CO2 Emission from Europe’s electricity system"
   ]
  },
  {
   "cell_type": "code",
   "execution_count": null,
   "metadata": {},
   "outputs": [],
   "source": [
    "import sys\n",
    "import os\n",
    "from qgis.core import *\n",
    "from qgis.PyQt.QtGui import *\n",
    "from qgis.PyQt.QtCore import *"
   ]
  },
  {
   "cell_type": "markdown",
   "metadata": {},
   "source": [
    "## QGIS inicialization"
   ]
  },
  {
   "cell_type": "code",
   "execution_count": null,
   "metadata": {},
   "outputs": [],
   "source": [
    "QgsApplication.setPrefixPath(r'C:\\Program Files\\QGIS 3.12\\apps\\qgis', True)\n",
    "qgs = QgsApplication([], True)\n",
    "qgs.initQgis()\n",
    "sys.path.append(r'C:\\Program Files\\QGIS 3.12\\apps\\qgis\\python\\plugins')"
   ]
  },
  {
   "cell_type": "code",
   "execution_count": null,
   "metadata": {},
   "outputs": [],
   "source": [
    "study = QgsProject.instance()"
   ]
  },
  {
   "cell_type": "markdown",
   "metadata": {},
   "source": [
    "## Import Map Layer"
   ]
  },
  {
   "cell_type": "code",
   "execution_count": null,
   "metadata": {},
   "outputs": [],
   "source": [
    "eu_path = \"files/countries/CNTR_BN_10M_2016_3035.shp\"\n",
    "eu_layer = QgsVectorLayer(eu_path, 'EU Map', 'ogr')\n",
    "\n",
    "if not eu_layer.isValid():\n",
    "    print(\"Failed to load the layer!\")\n",
    "else:\n",
    "    study.addMapLayer(eu_layer)"
   ]
  },
  {
   "cell_type": "markdown",
   "metadata": {},
   "source": [
    "## Read CSV with Pandas"
   ]
  },
  {
   "cell_type": "code",
   "execution_count": null,
   "metadata": {},
   "outputs": [],
   "source": [
    "import pandas as pd\n",
    "df = pd.read_csv(\"files/paises.csv\")\n",
    "df.head(df.shape[0])"
   ]
  },
  {
   "cell_type": "markdown",
   "metadata": {},
   "source": [
    "## Variation Graphic with Matplotlib"
   ]
  },
  {
   "cell_type": "code",
   "execution_count": null,
   "metadata": {},
   "outputs": [],
   "source": [
    "import matplotlib.pyplot as plt\n",
    "\n",
    "plt.figure(figsize=(25, 7))\n",
    "plt.bar(df.Pais, df.Value)\n",
    "plt.xlabel('Paises')\n",
    "plt.ylabel('% de variação')\n",
    "plt.title('Diminuição na Emissão de CO2 Proveniente do Setor Elétrico')\n",
    "plt.show()"
   ]
  },
  {
   "cell_type": "code",
   "execution_count": null,
   "metadata": {},
   "outputs": [],
   "source": [
    "#load csv\n",
    "\n",
    "valores = ['paises']\n",
    "\n",
    "def loadCSVVectorLayer(aux):\n",
    "    val_path = \"file:files/{}.csv\".format(aux)\n",
    "    layer_name = '{}'.format(aux)\n",
    "    val_layer = QgsVectorLayer(val_path, layer_name, 'delimitedtext')\n",
    "\n",
    "    if not val_layer.isValid():\n",
    "        print('Layer failed to load!')\n",
    "    else:\n",
    "        study.addMapLayer(val_layer)\n",
    "        \n",
    "for aux in valores:\n",
    "    loadCSVVectorLayer(aux)"
   ]
  },
  {
   "cell_type": "code",
   "execution_count": null,
   "metadata": {},
   "outputs": [],
   "source": [
    "targetField = 'FID' # verificar FIDs\n",
    "joinField = 'pais'"
   ]
  },
  {
   "cell_type": "code",
   "execution_count": null,
   "metadata": {},
   "outputs": [],
   "source": [
    "def joinCSVSHPVectorLayers(csv_layer):\n",
    "    joinObject = QgsVectorLayerJoinInfo()\n",
    "    joinObject.setJoinFieldName(joinField)\n",
    "    joinObject.setTargetFieldName(targetField)\n",
    "    joinObject.setJoinLayerId(csv_layer.id())\n",
    "    joinObject.setUsingMemoryCache(True)\n",
    "    joinObject.setJoinLayer(csv_layer)\n",
    "    flag = eu_layer.addJoin(joinObject)\n",
    "    return flag\n",
    "    \n",
    "layer_name = 'paises'\n",
    "csv_layer = study.mapLayersByName(layer_name)[0]\n",
    "flag = joinCSVSHPVectorLayers(csv_layer)"
   ]
  },
  {
   "cell_type": "code",
   "execution_count": null,
   "metadata": {},
   "outputs": [],
   "source": []
  }
 ],
 "metadata": {
  "kernelspec": {
   "display_name": "Python 3",
   "language": "python",
   "name": "python3"
  },
  "language_info": {
   "codemirror_mode": {
    "name": "ipython",
    "version": 3
   },
   "file_extension": ".py",
   "mimetype": "text/x-python",
   "name": "python",
   "nbconvert_exporter": "python",
   "pygments_lexer": "ipython3",
   "version": "3.7.0"
  }
 },
 "nbformat": 4,
 "nbformat_minor": 2
}
