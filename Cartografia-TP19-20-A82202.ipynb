{
 "cells": [
  {
   "cell_type": "code",
   "execution_count": null,
   "metadata": {},
   "outputs": [],
   "source": [
    "Covid19 - Europe "
   ]
  },
  {
   "cell_type": "code",
   "execution_count": 1,
   "metadata": {},
   "outputs": [],
   "source": [
    "import sys\n",
    "import os\n",
    "from qgis.core import *\n",
    "from qgis.PyQt.QtGui import *\n",
    "from qgis.PyQt.QtCore import *"
   ]
  },
  {
   "cell_type": "code",
   "execution_count": 2,
   "metadata": {},
   "outputs": [],
   "source": [
    "QgsApplication.setPrefixPath(r'C:\\Program Files\\QGIS 3.12\\apps\\qgis', True)\n",
    "qgs = QgsApplication([], True)\n",
    "qgs.initQgis()\n",
    "sys.path.append(r'C:\\Program Files\\QGIS 3.12\\apps\\qgis\\python\\plugins')"
   ]
  },
  {
   "cell_type": "code",
   "execution_count": 3,
   "metadata": {},
   "outputs": [],
   "source": [
    "study = QgsProject.instance()"
   ]
  },
  {
   "cell_type": "code",
   "execution_count": 4,
   "metadata": {},
   "outputs": [],
   "source": [
    "eu_path = \"files/countries/CNTR_BN_10M_2016_3035.shp\"\n",
    "eu_layer = QgsVectorLayer(eu_path, 'EU Map', 'ogr')\n",
    "\n",
    "if not eu_layer.isValid():\n",
    "    print(\"Failed to load the layer!\")\n",
    "else:\n",
    "    study.addMapLayer(eu_layer)"
   ]
  },
  {
   "cell_type": "code",
   "execution_count": 5,
   "metadata": {},
   "outputs": [],
   "source": [
    "#load csv\n",
    "\n",
    "valores = ['emissoes','paises']\n",
    "\n",
    "def loadCSVVectorLayer(aux):\n",
    "    val_path = \"file:files/{}.csv\".format(aux)\n",
    "    layer_name = '{}'.format(aux)\n",
    "    val_layer = QgsVectorLayer(val_path, layer_name, 'delimitedtext')\n",
    "\n",
    "    if not val_layer.isValid():\n",
    "        print('Layer failed to load!')\n",
    "    else:\n",
    "        study.addMapLayer(val_layer)\n",
    "        \n",
    "for aux in valores:\n",
    "    loadCSVVectorLayer(aux)"
   ]
  },
  {
   "cell_type": "code",
   "execution_count": 6,
   "metadata": {},
   "outputs": [],
   "source": [
    "targetField = 'NAME'\n",
    "joinField = 'pais'"
   ]
  },
  {
   "cell_type": "code",
   "execution_count": 7,
   "metadata": {},
   "outputs": [],
   "source": [
    "def joinCSVSHPVectorLayers(csv_layer):\n",
    "    joinObject = QgsVectorLayerJoinInfo()\n",
    "    joinObject.setJoinFieldName(joinField)\n",
    "    joinObject.setTargetFieldName(targetField)\n",
    "    joinObject.setJoinLayerId(csv_layer.id())\n",
    "    joinObject.setUsingMemoryCache(True)\n",
    "    joinObject.setJoinLayer(csv_layer)\n",
    "    flag = eu_layer.addJoin(joinObject)\n",
    "    return flag\n",
    "    \n",
    "layer_name = 'paises'\n",
    "csv_layer = study.mapLayersByName(layer_name)[0]\n",
    "flag = joinCSVSHPVectorLayers(csv_layer)"
   ]
  },
  {
   "cell_type": "code",
   "execution_count": null,
   "metadata": {},
   "outputs": [],
   "source": [
    "#caps = eu_layer.dataProvider().capabilities()\n",
    "\n",
    "#if caps & QgsVectorDataProvider.AddAttributes:\n",
    "#    new_fields = [\n",
    "#        QgsField(\"fev\", QVariant.Int),\n",
    "#        QgsField(\"mar\", QVariant.Int),\n",
    "#        QgsField(\"abr\", QVariant.Int)\n",
    "#    ]\n",
    "#    res = eu_layer.dataProvider().addAttributes(new_fields)\n",
    "#eu_layer.updateFields()"
   ]
  },
  {
   "cell_type": "code",
   "execution_count": null,
   "metadata": {},
   "outputs": [],
   "source": [
    "#updateFeat = {}\n",
    "#fid1 = eu_layer.fields().indexFromName('fev')\n",
    "#fid2 = eu_layer.fields().indexFromName('mar')\n",
    "#fid3 = eu_layer.fields().indexFromName('abr')\n",
    "\n"
   ]
  },
  {
   "cell_type": "code",
   "execution_count": 8,
   "metadata": {},
   "outputs": [],
   "source": [
    "import numpy as np\n",
    "import matplotlib.pyplot as plt"
   ]
  },
  {
   "cell_type": "code",
   "execution_count": 9,
   "metadata": {},
   "outputs": [
    {
     "ename": "KeyError",
     "evalue": "'NAME'",
     "output_type": "error",
     "traceback": [
      "\u001b[1;31m---------------------------------------------------------------------------\u001b[0m",
      "\u001b[1;31mKeyError\u001b[0m                                  Traceback (most recent call last)",
      "\u001b[1;32m<ipython-input-9-5164b70ac6cf>\u001b[0m in \u001b[0;36m<module>\u001b[1;34m\u001b[0m\n\u001b[0;32m      4\u001b[0m \u001b[1;33m\u001b[0m\u001b[0m\n\u001b[0;32m      5\u001b[0m \u001b[1;32mfor\u001b[0m \u001b[0mfeature\u001b[0m \u001b[1;32min\u001b[0m \u001b[0meu_layer\u001b[0m\u001b[1;33m.\u001b[0m\u001b[0mgetFeatures\u001b[0m\u001b[1;33m(\u001b[0m\u001b[1;33m)\u001b[0m\u001b[1;33m:\u001b[0m\u001b[1;33m\u001b[0m\u001b[0m\n\u001b[1;32m----> 6\u001b[1;33m     \u001b[1;32mif\u001b[0m \u001b[0mfeature\u001b[0m\u001b[1;33m[\u001b[0m\u001b[1;34m'NAME'\u001b[0m\u001b[1;33m]\u001b[0m \u001b[1;32min\u001b[0m \u001b[0mpaises\u001b[0m\u001b[1;33m:\u001b[0m\u001b[1;33m\u001b[0m\u001b[0m\n\u001b[0m\u001b[0;32m      7\u001b[0m         \u001b[0mpais\u001b[0m\u001b[1;33m.\u001b[0m\u001b[0mappend\u001b[0m\u001b[1;33m(\u001b[0m\u001b[0mfeature\u001b[0m\u001b[1;33m[\u001b[0m\u001b[1;34m'NAME'\u001b[0m\u001b[1;33m]\u001b[0m\u001b[1;33m)\u001b[0m\u001b[1;33m\u001b[0m\u001b[0m\n",
      "\u001b[1;31mKeyError\u001b[0m: 'NAME'"
     ]
    }
   ],
   "source": [
    "paises = ['Italy', 'Spain', 'France']\n",
    "pais  = []\n",
    "valor = ['-23', '-18', '-17']\n",
    "\n",
    "#for feature in eu_layer.getFeatures():\n",
    "    #if feature['NAME'] in paises:\n",
    "        #pais.append(feature['NAME'])"
   ]
  },
  {
   "cell_type": "code",
   "execution_count": 14,
   "metadata": {},
   "outputs": [
    {
     "data": {
      "image/png": "[encoded data removed]",
      "text/plain": [
       "<Figure size 432x288 with 1 Axes>"
      ]
     },
     "metadata": {
      "needs_background": "light"
     },
     "output_type": "display_data"
    }
   ],
   "source": [
    "fig, ax = plt.subplots()\n",
    "index = np.arange(len(valor))\n",
    "bar_width = 0.35\n",
    "\n",
    "rects1 = plt.bar(index, valor, bar_width, label='Variação')\n",
    "\n",
    "plt.xlabel('Paises')\n",
    "plt.ylabel('% de variação')\n",
    "plt.title('Emissão de CO2 Proveniente do Setor Elétrico')\n",
    "plt.xticks(index + bar_width, paises)\n",
    "plt.legend()\n",
    "\n",
    "plt.tight_layout()\n",
    "plt.show()"
   ]
  },
  {
   "cell_type": "code",
   "execution_count": null,
   "metadata": {},
   "outputs": [],
   "source": [
    "#terminar gráfico"
   ]
  },
  {
   "cell_type": "code",
   "execution_count": null,
   "metadata": {},
   "outputs": [],
   "source": [
    "#adicionar mapa com 3 da UE com 3 paises com maior impacto\n",
    "\n",
    "# Itália -23%\n",
    "# Espanha -18%\n",
    "# França - 17%"
   ]
  },
  {
   "cell_type": "code",
   "execution_count": null,
   "metadata": {},
   "outputs": [],
   "source": []
  },
  {
   "cell_type": "code",
   "execution_count": null,
   "metadata": {},
   "outputs": [],
   "source": []
  },
  {
   "cell_type": "code",
   "execution_count": null,
   "metadata": {},
   "outputs": [],
   "source": []
  }
 ],
 "metadata": {
  "kernelspec": {
   "display_name": "Python 3",
   "language": "python",
   "name": "python3"
  },
  "language_info": {
   "codemirror_mode": {
    "name": "ipython",
    "version": 3
   },
   "file_extension": ".py",
   "mimetype": "text/x-python",
   "name": "python",
   "nbconvert_exporter": "python",
   "pygments_lexer": "ipython3",
   "version": "3.7.0"
  }
 },
 "nbformat": 4,
 "nbformat_minor": 2
}
